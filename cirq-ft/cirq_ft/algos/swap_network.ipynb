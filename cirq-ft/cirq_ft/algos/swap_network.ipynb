{
 "cells": [
  {
   "cell_type": "code",
   "execution_count": null,
   "id": "aaebd62d",
   "metadata": {},
   "outputs": [],
   "source": [
    "# Copyright 2023 The Cirq Developers\n",
    "#\n",
    "# Licensed under the Apache License, Version 2.0 (the \"License\");\n",
    "# you may not use this file except in compliance with the License.\n",
    "# You may obtain a copy of the License at\n",
    "#\n",
    "#     https://www.apache.org/licenses/LICENSE-2.0\n",
    "#\n",
    "# Unless required by applicable law or agreed to in writing, software\n",
    "# distributed under the License is distributed on an \"AS IS\" BASIS,\n",
    "# WITHOUT WARRANTIES OR CONDITIONS OF ANY KIND, either express or implied.\n",
    "# See the License for the specific language governing permissions and\n",
    "# limitations under the License."
   ]
  },
  {
   "cell_type": "markdown",
   "id": "f31db18a",
   "metadata": {
    "cq.autogen": "title_cell"
   },
   "source": [
    "# Swap Network"
   ]
  },
  {
   "cell_type": "code",
   "execution_count": null,
   "id": "9354e0b6",
   "metadata": {
    "cq.autogen": "top_imports"
   },
   "outputs": [],
   "source": [
    "import cirq\n",
    "import numpy as np\n",
    "import cirq_ft\n",
    "import cirq_ft.infra.testing as cq_testing\n",
    "from cirq_ft.infra.jupyter_tools import display_gate_and_compilation\n",
    "from typing import *"
   ]
  },
  {
   "cell_type": "markdown",
   "id": "f0727311",
   "metadata": {
    "cq.autogen": "_make_MultiTargetCSwap.md"
   },
   "source": [
    "## `MultiTargetCSwap`\n",
    "Implements a multi-target controlled swap unitary $CSWAP_n = |0><0| I + |1><1| SWAP_n$.\n",
    "\n",
    "This decomposes into a qubitwise SWAP on the two target signature, and takes 14*n T-gates.\n",
    "\n",
    "#### References\n",
    "[Trading T-gates for dirty qubits in state preparation and unitary synthesis](https://arxiv.org/abs/1812.00954). Low et. al. 2018. See Appendix B.2.c.\n"
   ]
  },
  {
   "cell_type": "code",
   "execution_count": null,
   "id": "253b1d6a",
   "metadata": {
    "cq.autogen": "_make_MultiTargetCSwap.py"
   },
   "outputs": [],
   "source": [
    "g = cq_testing.GateHelper(\n",
    "    cirq_ft.MultiTargetCSwap(3)\n",
    ")\n",
    "\n",
    "display_gate_and_compilation(g)"
   ]
  },
  {
   "cell_type": "markdown",
   "id": "4a5975fd",
   "metadata": {
    "cq.autogen": "_make_MultiTargetCSwapApprox.md"
   },
   "source": [
    "## `MultiTargetCSwapApprox`\n",
    "Approximately implements a multi-target controlled swap unitary using only 4 * n T-gates.\n",
    "\n",
    "Implements the unitary $CSWAP_n = |0><0| I + |1><1| SWAP_n$ such that the output state is\n",
    "correct up to a global phase factor of +1 / -1.\n",
    "\n",
    "This is useful when the incorrect phase can be absorbed in a garbage state of an algorithm; and\n",
    "thus ignored, see the reference for more details.\n",
    "\n",
    "#### References\n",
    "[Trading T-gates for dirty qubits in state preparation and unitary synthesis](https://arxiv.org/abs/1812.00954). Low et. al. 2018. See Appendix B.2.c.\n"
   ]
  },
  {
   "cell_type": "code",
   "execution_count": null,
   "id": "972e5895",
   "metadata": {
    "cq.autogen": "_make_MultiTargetCSwapApprox.py"
   },
   "outputs": [],
   "source": [
    "g = cq_testing.GateHelper(\n",
    "    cirq_ft.MultiTargetCSwapApprox(2)\n",
    ")\n",
    "\n",
    "display_gate_and_compilation(g)"
   ]
  },
  {
   "cell_type": "markdown",
   "id": "5fae3dd8",
   "metadata": {
    "cq.autogen": "_make_SwapWithZeroGate.md"
   },
   "source": [
    "## `SwapWithZeroGate`\n",
    "Swaps |Psi_0> with |Psi_x> if selection register stores index `x`.\n",
    "\n",
    "Implements the unitary U |x> |Psi_0> |Psi_1> ... |Psi_{n-1}> --> |x> |Psi_x> |Rest of Psi>.\n",
    "Note that the state of `|Rest of Psi>` is allowed to be anything and should not be depended\n",
    "upon.\n",
    "\n",
    "#### References\n",
    "[Trading T-gates for dirty qubits in state preparation and unitary synthesis] (https://arxiv.org/abs/1812.00954). Low, Kliuchnikov, Schaeffer. 2018.\n"
   ]
  },
  {
   "cell_type": "code",
   "execution_count": null,
   "id": "ad3849f0",
   "metadata": {
    "cq.autogen": "_make_SwapWithZeroGate.py"
   },
   "outputs": [],
   "source": [
    "g = cq_testing.GateHelper(\n",
    "    cirq_ft.SwapWithZeroGate(selection_bitsize=2, target_bitsize=3, n_target_registers=4)\n",
    ")\n",
    "\n",
    "display_gate_and_compilation(g)"
   ]
  }
 ],
 "metadata": {
  "kernelspec": {
   "display_name": "Python 3",
   "language": "python",
   "name": "python3"
  },
  "language_info": {
   "codemirror_mode": {
    "name": "ipython",
    "version": 3
   },
   "file_extension": ".py",
   "mimetype": "text/x-python",
   "name": "python",
   "nbconvert_exporter": "python",
   "pygments_lexer": "ipython3",
   "version": "3.8.16"
  }
 },
 "nbformat": 4,
 "nbformat_minor": 5
}
