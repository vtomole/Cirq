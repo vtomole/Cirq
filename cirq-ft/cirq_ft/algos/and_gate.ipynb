{
 "cells": [
  {
   "cell_type": "code",
   "execution_count": null,
   "id": "97385158",
   "metadata": {},
   "outputs": [],
   "source": [
    "# Copyright 2023 The Cirq Developers\n",
    "#\n",
    "# Licensed under the Apache License, Version 2.0 (the \"License\");\n",
    "# you may not use this file except in compliance with the License.\n",
    "# You may obtain a copy of the License at\n",
    "#\n",
    "#     https://www.apache.org/licenses/LICENSE-2.0\n",
    "#\n",
    "# Unless required by applicable law or agreed to in writing, software\n",
    "# distributed under the License is distributed on an \"AS IS\" BASIS,\n",
    "# WITHOUT WARRANTIES OR CONDITIONS OF ANY KIND, either express or implied.\n",
    "# See the License for the specific language governing permissions and\n",
    "# limitations under the License."
   ]
  },
  {
   "cell_type": "markdown",
   "id": "93353f4e",
   "metadata": {},
   "source": [
    "# And\n",
    "\n",
    "To do classical logic with a reversible circuit (a pre-requisite for a quantum circuit), we use a three (qu)bit operation called a Toffoli gate that takes `[a, b, c]` to `[a, b, c ^ (a & b)]`. If we take `c` to be zero, this is an And gate taking `[a, b]` to `[a, b, a & b]`."
   ]
  },
  {
   "cell_type": "code",
   "execution_count": null,
   "id": "a95dab52",
   "metadata": {},
   "outputs": [],
   "source": [
    "import itertools\n",
    "for a, b, in itertools.product([0, 1], repeat=2):\n",
    "    print(a, b, '->', a & b)"
   ]
  },
  {
   "cell_type": "markdown",
   "id": "37a44523",
   "metadata": {},
   "source": [
    "## Quantum operation\n",
    "\n",
    "We provide a quantum operation for performing quantum And. Specifically, it assumes the third qubit (i.e. the target) is initialized to the `|0>` state."
   ]
  },
  {
   "cell_type": "code",
   "execution_count": null,
   "id": "5c456e50",
   "metadata": {},
   "outputs": [],
   "source": [
    "import cirq\n",
    "from cirq.contrib.svg import SVGCircuit\n",
    "from cirq_ft import And, infra\n",
    "\n",
    "gate = And()\n",
    "r = gate.signature\n",
    "quregs = infra.get_named_qubits(r)\n",
    "operation = gate.on_registers(**quregs)\n",
    "circuit = cirq.Circuit(operation)\n",
    "SVGCircuit(circuit)"
   ]
  },
  {
   "cell_type": "markdown",
   "id": "8d4e16dc",
   "metadata": {},
   "source": [
    "## Efficient decomposition\n",
    "\n",
    "This specialization of the Toffoli gate permits a specialized decomposition that minimizes the `T`-gate count."
   ]
  },
  {
   "cell_type": "code",
   "execution_count": null,
   "id": "fefe2934",
   "metadata": {},
   "outputs": [],
   "source": [
    "c2 = cirq.Circuit(cirq.decompose_once(operation))\n",
    "SVGCircuit(c2)"
   ]
  },
  {
   "cell_type": "markdown",
   "id": "b91cc9d9",
   "metadata": {},
   "source": [
    "## Test behavior\n",
    "\n",
    "We can test the behavior of the And gate on computational basis states using a Quantum simulator."
   ]
  },
  {
   "cell_type": "code",
   "execution_count": null,
   "id": "2ec57c0e",
   "metadata": {},
   "outputs": [],
   "source": [
    "import numpy as np\n",
    "\n",
    "input_states = [(a, b, 0) for a, b in itertools.product([0, 1], repeat=2)]\n",
    "output_states = [(a, b, a & b) for a, b, _ in input_states]\n",
    "\n",
    "\n",
    "for inp, out in zip(input_states, output_states):\n",
    "    result = cirq.Simulator(dtype=np.complex128).simulate(c2, initial_state=inp)\n",
    "    print(inp, '->', result.dirac_notation())\n",
    "    assert result.dirac_notation()[1:-1] == \"\".join(str(x) for x in out)"
   ]
  },
  {
   "cell_type": "code",
   "execution_count": null,
   "id": "7e5832e4",
   "metadata": {},
   "outputs": [],
   "source": [
    "inds, = np.where(abs(result.final_state_vector) > 1e-8)\n",
    "assert len(inds) == 1\n",
    "ind, = inds\n",
    "f'{ind:3b}'"
   ]
  },
  {
   "cell_type": "markdown",
   "id": "fa451755",
   "metadata": {},
   "source": [
    "## Uncompute\n",
    "\n",
    "We can save even more `T` gates when \"uncomputing\" an And operation, i.e. performing the adjoint operation by using classical control."
   ]
  },
  {
   "cell_type": "code",
   "execution_count": null,
   "id": "a2878f83",
   "metadata": {},
   "outputs": [],
   "source": [
    "inv_operation = operation ** -1\n",
    "inv_circuit = cirq.Circuit(inv_operation)\n",
    "SVGCircuit(inv_circuit)"
   ]
  },
  {
   "cell_type": "markdown",
   "id": "3a2dcf07",
   "metadata": {},
   "source": [
    "We reset our target using measurement and fix up phases depending on the result of that measurement:"
   ]
  },
  {
   "cell_type": "code",
   "execution_count": null,
   "id": "bd123481",
   "metadata": {},
   "outputs": [],
   "source": [
    "inv_c2 = cirq.Circuit(cirq.decompose_once(inv_operation))\n",
    "inv_c2"
   ]
  },
  {
   "cell_type": "markdown",
   "id": "a99e3bf5",
   "metadata": {},
   "source": [
    "## Test Adjoint"
   ]
  },
  {
   "cell_type": "code",
   "execution_count": null,
   "id": "3cacf727",
   "metadata": {},
   "outputs": [],
   "source": [
    "input_states = [(a, b, a & b) for a, b in itertools.product([0, 1], repeat=2)]\n",
    "output_states = [(a, b, 0) for a, b, _ in input_states]\n",
    "\n",
    "for inp, out in zip(input_states, output_states):\n",
    "    result = cirq.Simulator().simulate(inv_circuit, initial_state=inp)\n",
    "    print(inp, '->', result.dirac_notation())\n",
    "    assert result.dirac_notation()[1:-1] == \"\".join(str(x) for x in out)"
   ]
  }
 ],
 "metadata": {
  "kernelspec": {
   "display_name": "Python 3",
   "language": "python",
   "name": "python3"
  },
  "language_info": {
   "codemirror_mode": {
    "name": "ipython",
    "version": 3
   },
   "file_extension": ".py",
   "mimetype": "text/x-python",
   "name": "python",
   "nbconvert_exporter": "python",
   "pygments_lexer": "ipython3",
   "version": "3.8.16"
  }
 },
 "nbformat": 4,
 "nbformat_minor": 5
}