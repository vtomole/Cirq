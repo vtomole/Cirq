{
 "cells": [
  {
   "cell_type": "markdown",
   "metadata": {
    "id": "zJAHLtnyQah6"
   },
   "source": [
    "##### Copyright 2020 The Cirq Developers"
   ]
  },
  {
   "cell_type": "code",
   "execution_count": null,
   "metadata": {
    "cellView": "form",
    "id": "zuEmbgh8QaG1"
   },
   "outputs": [],
   "source": [
    "#@title Licensed under the Apache License, Version 2.0 (the \"License\");\n",
    "# you may not use this file except in compliance with the License.\n",
    "# You may obtain a copy of the License at\n",
    "#\n",
    "# https://www.apache.org/licenses/LICENSE-2.0\n",
    "#\n",
    "# Unless required by applicable law or agreed to in writing, software\n",
    "# distributed under the License is distributed on an \"AS IS\" BASIS,\n",
    "# WITHOUT WARRANTIES OR CONDITIONS OF ANY KIND, either express or implied.\n",
    "# See the License for the specific language governing permissions and\n",
    "# limitations under the License."
   ]
  },
  {
   "cell_type": "markdown",
   "metadata": {
    "id": "W31l4SmqQSrM"
   },
   "source": [
    "# Rabi oscillation experiment"
   ]
  },
  {
   "cell_type": "markdown",
   "metadata": {
    "id": "2eDV4QFhQhlO"
   },
   "source": [
    "<table class=\"tfo-notebook-buttons\" align=\"left\">\n",
    "  <td>\n",
    "    <a target=\"_blank\" href=\"https://quantumai.google/cirq/tutorials/rabi_oscillations\"><img src=\"https://quantumai.google/site-assets/images/buttons/quantumai_logo_1x.png\" />View on QuantumAI</a>\n",
    "  </td>\n",
    "  <td>\n",
    "    <a target=\"_blank\" href=\"https://colab.research.google.com/github/quantumlib/Cirq/blob/master/docs/tutorials/rabi_oscillations.ipynb\"><img src=\"https://quantumai.google/site-assets/images/buttons/colab_logo_1x.png\" />Run in Google Colab</a>\n",
    "  </td>\n",
    "  <td>\n",
    "    <a target=\"_blank\" href=\"https://github.com/quantumlib/Cirq/blob/master/docs/tutorials/rabi_oscillations.ipynb\"><img src=\"https://quantumai.google/site-assets/images/buttons/github_logo_1x.png\" />View source on GitHub</a>\n",
    "  </td>\n",
    "  <td>\n",
    "    <a href=\"https://storage.googleapis.com/tensorflow_docs/Cirq/docs/tutorials/rabi_oscillations.ipynb\"><img src=\"https://quantumai.google/site-assets/images/buttons/download_icon_1x.png\" />Download notebook</a>\n",
    "  </td>\n",
    "</table>"
   ]
  },
  {
   "cell_type": "code",
   "execution_count": null,
   "metadata": {
    "id": "bd9529db1c0b"
   },
   "outputs": [],
   "source": [
    "try:\n",
    "    import cirq\n",
    "    import cirq_google\n",
    "except ImportError:\n",
    "    print(\"installing cirq...\")\n",
    "    !pip install --quiet cirq-google\n",
    "    print(\"installed cirq.\")\n",
    "    import cirq\n"
   ]
  },
  {
   "cell_type": "markdown",
   "metadata": {
    "id": "kL2C06ln6h48"
   },
   "source": [
    "In this experiment, you are going to use Cirq to check that rotating a qubit by an increasing angle, and then measuring the qubit, produces Rabi oscillations. This requires you to do the following things:\n",
    "\n",
    "1. Prepare the $|0\\rangle$ state.\n",
    "2. Rotate by an angle $\\theta$ around the $X$ axis.\n",
    "3. Measure to see if the result is a 1 or a 0.\n",
    "4. Repeat steps 1-3 $k$ times.\n",
    "5. Report the fraction of $\\frac{\\text{Number of 1's}}{k}$\n",
    "found in step 3."
   ]
  },
  {
   "cell_type": "markdown",
   "metadata": {
    "id": "ACqqV6tJ7xXp"
   },
   "source": [
    "## 1. Getting to know Cirq\n",
    "\n",
    "Cirq emphasizes the details of implementing quantum algorithms on near term devices.\n",
    "For example, when you work on a qubit in Cirq you don't operate on an unspecified qubit that will later be mapped onto a device by a hidden step.\n",
    "Instead, you are always operating on specific qubits at specific locations that you specify.\n",
    "\n",
    "Suppose you are working with a 54 qubit Sycamore chip.\n",
    "This device is included in Cirq by default.\n",
    "It is called `cirq_google.Sycamore`, and you can see its layout by printing it."
   ]
  },
  {
   "cell_type": "code",
   "execution_count": null,
   "metadata": {
    "id": "rKoMKEw46XY7"
   },
   "outputs": [],
   "source": [
    "import cirq\n",
    "import cirq_google\n",
    "working_device = cirq_google.Sycamore\n",
    "print(working_device)"
   ]
  },
  {
   "cell_type": "markdown",
   "metadata": {
    "id": "FJJEbuk-98Gj"
   },
   "source": [
    "For this experiment you only need one qubit and you can just pick whichever one you like."
   ]
  },
  {
   "cell_type": "code",
   "execution_count": null,
   "metadata": {
    "id": "XoXekxuQ8bI0"
   },
   "outputs": [],
   "source": [
    "my_qubit = cirq.GridQubit(5, 6)"
   ]
  },
  {
   "cell_type": "markdown",
   "metadata": {
    "id": "8Tucm7os-uET"
   },
   "source": [
    "Once you've chosen your qubit you can build circuits that use it."
   ]
  },
  {
   "cell_type": "code",
   "execution_count": null,
   "metadata": {
    "id": "niH8sty--Hu0"
   },
   "outputs": [],
   "source": [
    "from cirq.contrib.svg import SVGCircuit\n",
    "\n",
    "# Create a circuit with X, Ry(pi/2) and H.\n",
    "my_circuit = cirq.Circuit(\n",
    "    # Rotate the qubit pi/2 radians around the X axis.\n",
    "    cirq.rx(3.141 / 2).on(my_qubit),\n",
    "    # Measure the qubit.\n",
    "    cirq.measure(my_qubit, key='out')\n",
    ")\n",
    "SVGCircuit(my_circuit)"
   ]
  },
  {
   "cell_type": "markdown",
   "metadata": {
    "id": "-zbI-2KUMU66"
   },
   "source": [
    "Now you can simulate sampling from your circuit using `cirq.Simulator`."
   ]
  },
  {
   "cell_type": "code",
   "execution_count": null,
   "metadata": {
    "id": "IqUn4uv9_IVo"
   },
   "outputs": [],
   "source": [
    "sim = cirq.Simulator()\n",
    "samples = sim.sample(my_circuit, repetitions=10)\n",
    "samples"
   ]
  },
  {
   "cell_type": "markdown",
   "metadata": {
    "id": "k-uAT6sHdGib"
   },
   "source": [
    "You can also get properties of the circuit, such as the density matrix of the circuit's output or the state vector just before the terminal measurement."
   ]
  },
  {
   "cell_type": "code",
   "execution_count": null,
   "metadata": {
    "id": "83OqpReyHyUK"
   },
   "outputs": [],
   "source": [
    "state_vector_before_measurement = sim.simulate(my_circuit[:-1])\n",
    "sampled_state_vector_after_measurement = sim.simulate(my_circuit)\n",
    "\n",
    "print(f'State before measurement:')\n",
    "print(state_vector_before_measurement)\n",
    "print()\n",
    "print(f'State after measurement:')\n",
    "print(sampled_state_vector_after_measurement)\n"
   ]
  },
  {
   "cell_type": "markdown",
   "metadata": {
    "id": "1raIf8dsWHLJ"
   },
   "source": [
    "You can also examine the outputs from a noisy environment.\n",
    "For example, an environment where 10% depolarization is applied to each qubit after each operation in the circuit:"
   ]
  },
  {
   "cell_type": "code",
   "execution_count": null,
   "metadata": {
    "id": "P7VW97ugWE_h"
   },
   "outputs": [],
   "source": [
    "noisy_sim = cirq.DensityMatrixSimulator(noise=cirq.depolarize(0.1))\n",
    "noisy_post_measurement_state = noisy_sim.simulate(my_circuit)\n",
    "noisy_pre_measurement_state = noisy_sim.simulate(my_circuit[:-1])\n",
    "\n",
    "print('Noisy state after measurement:' + str(noisy_post_measurement_state))\n",
    "print('Noisy state before measurement:' + str(noisy_pre_measurement_state))"
   ]
  },
  {
   "cell_type": "markdown",
   "metadata": {
    "id": "2h6yoOl4Rmwt"
   },
   "source": [
    "## 2. Parameterized Circuits and Sweeps\n",
    "\n",
    "Now that you have some of the basics end to end, you can create a parameterized circuit that rotates by an angle $\\theta$:"
   ]
  },
  {
   "cell_type": "code",
   "execution_count": null,
   "metadata": {
    "id": "n6h6yuyGM58s"
   },
   "outputs": [],
   "source": [
    "import sympy\n",
    "theta = sympy.Symbol('theta')\n",
    "\n",
    "parameterized_circuit = cirq.Circuit(\n",
    "    cirq.rx(theta).on(my_qubit),\n",
    "    cirq.measure(my_qubit, key='out')\n",
    ")\n",
    "SVGCircuit(parameterized_circuit)"
   ]
  },
  {
   "cell_type": "markdown",
   "metadata": {
    "id": "rU3BBOp0S4sM"
   },
   "source": [
    "In the above block you saw that there is a `sympy.Symbol` that you placed in the circuit. Cirq supports symbolic computation involving circuits. What this means is that when you construct `cirq.Circuit` objects you can put placeholders in many of the classical control parameters of the circuit which you can fill with values later on.\n",
    "\n",
    "Now if you wanted to use `cirq.simulate` or `cirq.sample` with the parameterized circuit you would also need to specify a value for `theta`."
   ]
  },
  {
   "cell_type": "code",
   "execution_count": null,
   "metadata": {
    "id": "SMdz-yAZSwrU"
   },
   "outputs": [],
   "source": [
    "samples_at_theta_equals_2 = sim.sample(\n",
    "    parameterized_circuit, \n",
    "    params={theta: 2}, \n",
    "    repetitions=10)\n",
    "samples_at_theta_equals_2"
   ]
  },
  {
   "cell_type": "markdown",
   "metadata": {
    "id": "H_H13Hc8g873"
   },
   "source": [
    "You can also specify *multiple* values of `theta`, and get samples back for each value."
   ]
  },
  {
   "cell_type": "code",
   "execution_count": null,
   "metadata": {
    "id": "0zjZxGY6hIsu"
   },
   "outputs": [],
   "source": [
    "samples_at_multiple_theta = sim.sample(\n",
    "    parameterized_circuit, \n",
    "    params=[{theta: 0.5}, {theta: 3.141}], \n",
    "    repetitions=10)\n",
    "samples_at_multiple_theta"
   ]
  },
  {
   "cell_type": "markdown",
   "metadata": {
    "id": "juuWvOEphaaE"
   },
   "source": [
    "Cirq has shorthand notation you can use to sweep `theta` over a range of values."
   ]
  },
  {
   "cell_type": "code",
   "execution_count": null,
   "metadata": {
    "id": "8lCb3049hqXn"
   },
   "outputs": [],
   "source": [
    "samples_at_swept_theta = sim.sample(\n",
    "    parameterized_circuit, \n",
    "    params=cirq.Linspace(theta, start=0, stop=3.14159, length=5), \n",
    "    repetitions=5)\n",
    "samples_at_swept_theta"
   ]
  },
  {
   "cell_type": "markdown",
   "metadata": {
    "id": "wqaORMoKiAIW"
   },
   "source": [
    "The result value being returned by `sim.sample` is a `pandas.DataFrame` object.\n",
    "Pandas is a common library for working with table data in Python.\n",
    "You can use standard pandas methods to analyze and summarize your results."
   ]
  },
  {
   "cell_type": "code",
   "execution_count": null,
   "metadata": {
    "id": "bLzGV8nFiS9o"
   },
   "outputs": [],
   "source": [
    "import pandas\n",
    "\n",
    "big_results = sim.sample(\n",
    "    parameterized_circuit, \n",
    "    params=cirq.Linspace(theta, start=0, stop=3.14159, length=20), \n",
    "    repetitions=10_000)\n",
    "\n",
    "# big_results is too big to look at. Plot cross tabulated data instead.\n",
    "pandas.crosstab(big_results.theta, big_results.out).plot()"
   ]
  },
  {
   "cell_type": "markdown",
   "metadata": {
    "id": "b2TkL28AmBSQ"
   },
   "source": [
    "## 3. The built-in experiment\n",
    "\n",
    "Cirq comes with a pre-written Rabi oscillation experiment `cirq.experiments.rabi_oscillations`.\n",
    "This method takes a `cirq.Sampler`, which could be a simulator or a network connection to real hardware.\n",
    "The method takes a few more experimental parameters, and returns a result object\n",
    "that can be plotted."
   ]
  },
  {
   "cell_type": "code",
   "execution_count": null,
   "metadata": {
    "id": "ma0pVZwSThQx"
   },
   "outputs": [],
   "source": [
    "import datetime\n",
    "\n",
    "result = cirq.experiments.rabi_oscillations(\n",
    "    sampler=noisy_sim,\n",
    "    qubit=my_qubit,\n",
    "    num_points=50,\n",
    "    repetitions=10000)\n",
    "result.plot()"
   ]
  },
  {
   "cell_type": "markdown",
   "metadata": {
    "id": "U-oezaJAnzJ8"
   },
   "source": [
    "Notice that you can tell from the plot that you used the noisy simulator you defined earlier.\n",
    "You can also tell that the amount of depolarization is roughly 10%."
   ]
  },
  {
   "cell_type": "markdown",
   "metadata": {
    "id": "V6uE-yFxoT-3"
   },
   "source": [
    "## 4. Exercise: Find the best qubit\n",
    "\n",
    "As you have seen, you can use Cirq to perform a Rabi oscillation experiment.\n",
    "You can either make the experiment yourself out of the basic pieces made available by Cirq, or use the prebuilt experiment method.\n",
    "\n",
    "Now you're going to put this knowledge to the test.\n",
    "\n",
    "There is some amount of depolarizing noise on each qubit.\n",
    "Your goal is to characterize every qubit from the Sycamore chip using a Rabi oscillation experiment, and find the qubit with the lowest noise according to the secret noise model."
   ]
  },
  {
   "cell_type": "code",
   "execution_count": null,
   "metadata": {
    "id": "-eISq1eqXYWx"
   },
   "outputs": [],
   "source": [
    "import hashlib\n",
    "\n",
    "class SecretNoiseModel(cirq.NoiseModel):\n",
    "    def noisy_operation(self, op):\n",
    "        # Hey! No peeking!\n",
    "        q = op.qubits[0]\n",
    "        v = hashlib.sha256(str(q).encode()).digest()[0] / 256\n",
    "        yield cirq.depolarize(v).on(q)\n",
    "        yield op\n",
    "\n",
    "secret_noise_sampler = cirq.DensityMatrixSimulator(noise=SecretNoiseModel())"
   ]
  },
  {
   "cell_type": "code",
   "execution_count": null,
   "metadata": {
    "id": "Rvf87Wqrp-lu"
   },
   "outputs": [],
   "source": [
    "q = cirq_google.Sycamore.qubits[3]\n",
    "print('qubit', repr(q))\n",
    "cirq.experiments.rabi_oscillations(\n",
    "    sampler=secret_noise_sampler,\n",
    "    qubit=q\n",
    ").plot()"
   ]
  }
 ],
 "metadata": {
  "colab": {
   "collapsed_sections": [
    "V6uE-yFxoT-3"
   ],
   "name": "rabi_oscillations.ipynb",
   "toc_visible": true
  },
  "kernelspec": {
   "display_name": "Python 3",
   "name": "python3"
  }
 },
 "nbformat": 4,
 "nbformat_minor": 0
}
