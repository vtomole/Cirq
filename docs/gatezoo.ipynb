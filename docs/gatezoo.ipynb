{
 "cells": [
  {
   "cell_type": "code",
   "execution_count": null,
   "metadata": {
    "cellView": "form",
    "id": "KQa9t_gadIuR"
   },
   "outputs": [],
   "source": [
    "#@title Copyright 2022 The Cirq Developers\n",
    "# Licensed under the Apache License, Version 2.0 (the \"License\");\n",
    "# you may not use this file except in compliance with the License.\n",
    "# You may obtain a copy of the License at\n",
    "#\n",
    "# https://www.apache.org/licenses/LICENSE-2.0\n",
    "#\n",
    "# Unless required by applicable law or agreed to in writing, software\n",
    "# distributed under the License is distributed on an \"AS IS\" BASIS,\n",
    "# WITHOUT WARRANTIES OR CONDITIONS OF ANY KIND, either express or implied.\n",
    "# See the License for the specific language governing permissions and\n",
    "# limitations under the License."
   ]
  },
  {
   "cell_type": "markdown",
   "metadata": {
    "id": "xwec7FrkdFmi"
   },
   "source": [
    "# Gate Zoo"
   ]
  },
  {
   "cell_type": "markdown",
   "metadata": {
    "id": "5KZia7jmdJ3V"
   },
   "source": [
    "<table class=\"tfo-notebook-buttons\" align=\"left\">\n",
    "  <td>\n",
    "    <a target=\"_blank\" href=\"https://quantumai.google/cirq/gatezoo.ipynb\"><img src=\"https://quantumai.google/site-assets/images/buttons/quantumai_logo_1x.png\" />View on QuantumAI</a>\n",
    "  </td>\n",
    "  <td>\n",
    "    <a target=\"_blank\" href=\"https://colab.research.google.com/github/quantumlib/Cirq/blob/master/docs/gatezoo.ipynb\"><img src=\"https://quantumai.google/site-assets/images/buttons/colab_logo_1x.png\" />Run in Google Colab</a>\n",
    "  </td>\n",
    "  <td>\n",
    "    <a target=\"_blank\" href=\"https://github.com/quantumlib/Cirq/blob/master/docs/gatezoo.ipynbb\"><img src=\"https://quantumai.google/site-assets/images/buttons/github_logo_1x.png\" />View source on GitHub</a>\n",
    "  </td>\n",
    "  <td>\n",
    "    <a href=\"https://storage.googleapis.com/tensorflow_docs/Cirq/docs/gatezoo.ipynb\"><img src=\"https://quantumai.google/site-assets/images/buttons/download_icon_1x.png\" />Download notebook</a>\n",
    "  </td>\n",
    "</table>"
   ]
  },
  {
   "cell_type": "markdown",
   "metadata": {
    "id": "541571c2edcd"
   },
   "source": [
    "## Setup\n",
    "Note: this notebook relies on unreleased Cirq features. If you want to try these features, make sure you install cirq via `pip install cirq --pre`"
   ]
  },
  {
   "cell_type": "code",
   "execution_count": null,
   "metadata": {
    "id": "bd9529db1c0b"
   },
   "outputs": [],
   "source": [
    "try:\n",
    "    import cirq\n",
    "except ImportError:\n",
    "    print(\"installing cirq...\")\n",
    "    !pip install --quiet --pre cirq\n",
    "    print(\"installed cirq.\")\n",
    "    \n",
    "import IPython.display as ipd\n",
    "import cirq\n",
    "import inspect\n",
    "\n",
    "def display_gates(*gates):\n",
    "    for gate_name in gates:\n",
    "        ipd.display(ipd.Markdown(\"---\"))\n",
    "        gate = getattr(cirq, gate_name)\n",
    "        ipd.display(ipd.Markdown(f\"#### cirq.{gate_name}\"))\n",
    "        ipd.display(ipd.Markdown(inspect.cleandoc(gate.__doc__)))\n",
    "    else:\n",
    "        ipd.display(ipd.Markdown(\"---\"))    "
   ]
  },
  {
   "cell_type": "markdown",
   "metadata": {
    "id": "1cd004cc2f3a"
   },
   "source": [
    "Cirq comes with many gates that are standard across quantum computing. This notebook serves as a reference sheet for these gates.\n",
    "\n",
    "## Single Qubit Gates\n",
    "\n",
    "\n",
    "### Gate constants \n",
    "\n",
    "Cirq defines constants which are gate instances for particular important single qubit gates."
   ]
  },
  {
   "cell_type": "code",
   "execution_count": null,
   "metadata": {
    "id": "0c3a029e2155"
   },
   "outputs": [],
   "source": [
    "display_gates(\"X\", \"Y\", \"Z\", \"H\", \"S\", \"T\")"
   ]
  },
  {
   "cell_type": "markdown",
   "metadata": {
    "id": "10c855370f45"
   },
   "source": [
    "### Traditional Pauli Rotation Gates\n",
    "\n",
    "Traditional single qubit rotations expressed in radians of rotation about Pauli axis are defined."
   ]
  },
  {
   "cell_type": "code",
   "execution_count": null,
   "metadata": {
    "id": "e96e1c459258"
   },
   "outputs": [],
   "source": [
    "display_gates(\"Rx\", \"Ry\", \"Rz\")"
   ]
  },
  {
   "cell_type": "markdown",
   "metadata": {
    "id": "4bfc17ef80bb"
   },
   "source": [
    "### Pauli PowGates\n",
    "\n",
    "If you think of the `cirq.Z` gate as phasing the state $|1\\rangle$ by $-1$, then you might think that the square root of this gate phases the state $|1\\rangle$ by $i=\\sqrt{-1}$.  The `XPowGate`, `YPowGate` and `ZPowGate`s all act in this manner, phasing the state corresponding to their $-1$ eigenvalue by a prescribed amount.  This ends up being the same as the `Rx`, `Ry`, and `Rz` up to a global phase."
   ]
  },
  {
   "cell_type": "code",
   "execution_count": null,
   "metadata": {
    "id": "0e2ea8a0a0ae"
   },
   "outputs": [],
   "source": [
    "display_gates(\"XPowGate\", \"YPowGate\", \"ZPowGate\")"
   ]
  },
  {
   "cell_type": "markdown",
   "metadata": {
    "id": "6631a361ac42"
   },
   "source": [
    "### More Single Qubit Gate\n",
    "\n",
    "Many quantum computing implementations use qubits whose energy eigenstates for a qubit that is not interacting are the computational basis states. In these cases it is often useful to move `cirq.ZPowGate`'s through other single qubit gates, \"phasing\" the "
   ]
  },
  {
   "cell_type": "code",
   "execution_count": null,
   "metadata": {
    "id": "b5ffeefa3c76"
   },
   "outputs": [],
   "source": [
    "display_gates(\"PhasedXPowGate\", \"PhasedXZGate\", \"HPowGate\")"
   ]
  }
 ],
 "metadata": {
  "colab": {
   "name": "gatezoo.ipynb",
   "toc_visible": true
  },
  "kernelspec": {
   "display_name": "Python 3",
   "name": "python3"
  }
 },
 "nbformat": 4,
 "nbformat_minor": 0
}
