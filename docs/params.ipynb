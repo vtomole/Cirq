{
 "cells": [
  {
   "cell_type": "markdown",
   "metadata": {
    "id": "f6b480b258ee"
   },
   "source": [
    "##### Copyright 2022 The Cirq Developers"
   ]
  },
  {
   "cell_type": "code",
   "execution_count": null,
   "metadata": {
    "cellView": "form",
    "id": "906e07f6e562"
   },
   "outputs": [],
   "source": [
    "#@title Licensed under the Apache License, Version 2.0 (the \"License\");\n",
    "# you may not use this file except in compliance with the License.\n",
    "# You may obtain a copy of the License at\n",
    "#\n",
    "# https://www.apache.org/licenses/LICENSE-2.0\n",
    "#\n",
    "# Unless required by applicable law or agreed to in writing, software\n",
    "# distributed under the License is distributed on an \"AS IS\" BASIS,\n",
    "# WITHOUT WARRANTIES OR CONDITIONS OF ANY KIND, either express or implied.\n",
    "# See the License for the specific language governing permissions and\n",
    "# limitations under the License."
   ]
  },
  {
   "cell_type": "markdown",
   "metadata": {
    "id": "EQvWLKKRgZR9"
   },
   "source": [
    "# Parameter Sweeps"
   ]
  },
  {
   "cell_type": "markdown",
   "metadata": {
    "id": "EvZ_JecKga2p"
   },
   "source": [
    "<table class=\"tfo-notebook-buttons\" align=\"left\">\n",
    "  <td>\n",
    "    <a target=\"_blank\" href=\"https://quantumai.google/cirq/params\"><img src=\"https://quantumai.google/site-assets/images/buttons/quantumai_logo_1x.png\" />View on QuantumAI</a>\n",
    "  </td>\n",
    "  <td>\n",
    "    <a target=\"_blank\" href=\"https://colab.research.google.com/github/quantumlib/Cirq/blob/master/docs/params.ipynb\"><img src=\"https://quantumai.google/site-assets/images/buttons/colab_logo_1x.png\" />Run in Google Colab</a>\n",
    "  </td>\n",
    "  <td>\n",
    "    <a target=\"_blank\" href=\"https://github.com/quantumlib/Cirq/blob/master/docs/params.ipynb\"><img src=\"https://quantumai.google/site-assets/images/buttons/github_logo_1x.png\" />View source on GitHub</a>\n",
    "  </td>\n",
    "  <td>\n",
    "    <a href=\"https://storage.googleapis.com/tensorflow_docs/Cirq/docs/params.ipynb\"><img src=\"https://quantumai.google/site-assets/images/buttons/download_icon_1x.png\" />Download notebook</a>\n",
    "  </td>\n",
    "</table>"
   ]
  },
  {
   "cell_type": "code",
   "execution_count": null,
   "metadata": {
    "id": "bd9529db1c0b"
   },
   "outputs": [],
   "source": [
    "try:\n",
    "    import cirq\n",
    "except ImportError:\n",
    "    print(\"installing cirq...\")\n",
    "    !pip install --quiet cirq\n",
    "    print(\"installed cirq.\")\n",
    "    import cirq"
   ]
  },
  {
   "cell_type": "markdown",
   "metadata": {
    "id": "0e4a50aed04a"
   },
   "source": [
    "## Concept of Circuit Parameterization and Sweeps\n",
    "\n",
    "Suppose one has a quantum circuit and in this circuit there is a gate with some parameter. One might wish to run this circuit for different values of this parameter.  An example of this type of setup is a Rabi flop experiment. In this experiment, one runs a set of quantum computations where one 1) starts in  $|0\\rangle$ state, 2) rotates the state by $\\theta$ about the $x$ axis, i.e. applies the gate $\\exp(i \\theta X)$, and 3) measures the state in the computational basis.  Running this experiment for multiple values of $\\theta$, and plotting the probability of observing a $|1\\rangle$ outcome yields the quintessential $\\cos^2$ probability distribution as a function of the different parameters $\\theta$.  To support this type of experiment, Cirq provides the concept of parameterized circuits and parameter sweeps.  \n",
    "\n",
    "Let's illustrate parameter sweeps by a simple example.  Suppose that we want to compare two quantum circuits that are very similar except for a single gate."
   ]
  },
  {
   "cell_type": "code",
   "execution_count": null,
   "metadata": {
    "id": "5b7f70e0044a"
   },
   "outputs": [],
   "source": [
    "q0 = cirq.LineQubit(0)\n",
    "\n",
    "circuit1 = cirq.Circuit([cirq.H(q0), cirq.Z(q0)**0.5, cirq.H(q0), cirq.measure(q0)])\n",
    "print(f\"circuit1:\\n{circuit1}\")\n",
    "\n",
    "circuit2 = cirq.Circuit([cirq.H(q0), cirq.Z(q0)**0.25, cirq.H(q0), cirq.measure(q0)])\n",
    "print(f\"circuit2:\\n{circuit2}\")"
   ]
  },
  {
   "cell_type": "markdown",
   "metadata": {
    "id": "0bbbafcbd46b"
   },
   "source": [
    "One could run (either on hardware or in simulation) these circuits separately, for example, and collect statistics on the results of these circuits. However we can use parameter sweeps to do this in a cleaner and more perfomant manner.  \n",
    "\n",
    "First one defines a parameter, and constructs a circuit that depends on this parameter. We use [SymPy](https://www.sympy.org/en/index.html){:external}, a symbolic mathematics package, to define our parameters.  For example, here we define a symbol, theta, and use it to construct a paremeterized circuit."
   ]
  },
  {
   "cell_type": "code",
   "execution_count": null,
   "metadata": {
    "id": "e3a500a02d00"
   },
   "outputs": [],
   "source": [
    "import sympy\n",
    "\n",
    "theta = sympy.Symbol(\"theta\")\n",
    "\n",
    "circuit = cirq.Circuit([cirq.H(q0), cirq.Z(q0)**theta, cirq.H(q0), cirq.measure(q0)])\n",
    "print(f\"circuit:\\n{circuit}\")"
   ]
  },
  {
   "cell_type": "markdown",
   "metadata": {
    "id": "39411f440f90"
   },
   "source": [
    "Notice now that our circuit contains a `cirq.Z` gate that is raised to a power, but this power is our parameter `theta`.  This is a \"parameterized circuit\".  An alternative way to construct this, where we see that the parameter is actually a parameter on the gate's constructor arguments, is"
   ]
  },
  {
   "cell_type": "code",
   "execution_count": null,
   "metadata": {
    "id": "72016524d2b8"
   },
   "outputs": [],
   "source": [
    "circuit = cirq.Circuit([cirq.H(q0), cirq.ZPowGate(exponent=theta)(q0), cirq.H(q0), cirq.measure(q0)])\n",
    "print(f\"circuit:\\n{circuit}\")"
   ]
  },
  {
   "cell_type": "markdown",
   "metadata": {
    "id": "5ee7e4d0795f"
   },
   "source": [
    "We can check whether an object in Cirq is parameterized using `cirq.is_parameterized`:"
   ]
  },
  {
   "cell_type": "code",
   "execution_count": null,
   "metadata": {
    "id": "6a13c552a879"
   },
   "outputs": [],
   "source": [
    "cirq.is_parameterized(circuit)"
   ]
  },
  {
   "cell_type": "markdown",
   "metadata": {
    "id": "83d26b614ffe"
   },
   "source": [
    "Parameterized circuits are just like normal circuits, they just aren't defined in terms of actually gates you can run on a quantum computer without the additional information about the values of the parameters.  Following along with our example above, we can generate the two circuits (`circuit1` and `circuit2`) by using `cirq.resolve_parameter` and supplying the parameters:"
   ]
  },
  {
   "cell_type": "code",
   "execution_count": null,
   "metadata": {
    "id": "380c37fade59"
   },
   "outputs": [],
   "source": [
    "# circuit1 has theta = 0.5\n",
    "cirq.resolve_parameters(circuit, {\"theta\": 0.5})"
   ]
  },
  {
   "cell_type": "markdown",
   "metadata": {
    "id": "6463c8d810fa"
   },
   "source": [
    "More interestingly, can combine parameterized circuits with a list of parameter assignments when doing things like running circuits or simulating them.  These lists of parameter assignements are called \"sweeps\".  For example we can use a simulators `run_sweep` method to run simulations for the parameters corresonding to the two circuits defined above."
   ]
  },
  {
   "cell_type": "code",
   "execution_count": null,
   "metadata": {
    "id": "5ad9784a61b5"
   },
   "outputs": [],
   "source": [
    "sim = cirq.Simulator()\n",
    "results = sim.run_sweep(circuit, repetitions=25, params=[{\"theta\": 0.5}, {\"theta\": 0.25}])\n",
    "for result in results:\n",
    "    print(f\"param: {result.params}, result: {result}\")"
   ]
  },
  {
   "cell_type": "markdown",
   "metadata": {
    "id": "75e583a33046"
   },
   "source": [
    "To recap, we can construct parameterized circuits which depend on parameters that have not yet been assigned a value.  These parameterized circuits can then be resolved to circuits with actual values via a dictionary that maps the parameter name to the value. We can also construct lists of dictionaries of parameter assignments, called sweeps, and pass this to many objects in Cirq that use circuits to do an action (such as simulate or run on hardware).  For each of the elements in the sweep, the object will do the action using the parameters as described by the element."
   ]
  },
  {
   "cell_type": "markdown",
   "metadata": {
    "id": "985ff927ebdd"
   },
   "source": [
    "## Constructing Sweeps\n",
    "\n",
    "Above we constructed a sweep by simply constructing a list of parameter assignments, `[{\"theta\": 0.5}, {\"theta\": 0.25}]`.  Cirq also provides other ways to construct sweeps.  \n",
    "\n",
    "One useful method for constructing parameter sweeps is `cirq.Linspace` which creates a sweep over a list of equally spaced elements.  "
   ]
  },
  {
   "cell_type": "code",
   "execution_count": null,
   "metadata": {
    "id": "fcf802956766"
   },
   "outputs": [],
   "source": [
    "# Create a sweep over 5 equally spaced values from 0 to 2.5.\n",
    "params = cirq.Linspace(key=\"theta\", start=0, stop=2.5, length=5)\n",
    "for param in params:\n",
    "    print(param)"
   ]
  },
  {
   "cell_type": "markdown",
   "metadata": {
    "id": "e0d86edee975"
   },
   "source": [
    "Many methods that take a sweepable will take a list, but if one want to construct an explicit sweepable from a list, `cirq.Points` does this."
   ]
  },
  {
   "cell_type": "code",
   "execution_count": null,
   "metadata": {
    "id": "8371d9c02076"
   },
   "outputs": [],
   "source": [
    "params = cirq.Points(key=\"theta\", points=[0, 1, 3])\n",
    "for param in params:\n",
    "    print(param)"
   ]
  },
  {
   "cell_type": "markdown",
   "metadata": {
    "id": "cd97c725e966"
   },
   "source": [
    "Often one wants to sweep over multiple parameters. Two common cases are that one wants to combined two sweeps over parameters to take all combinations of these parameters (the cartesian product), or taking combinations that match up elementwise (zipping). Here are two examples that show how to do this"
   ]
  },
  {
   "cell_type": "code",
   "execution_count": null,
   "metadata": {
    "id": "bd9ace411791"
   },
   "outputs": [],
   "source": [
    "sweep1 = cirq.Linspace(\"theta\", 0, 1, 5)\n",
    "sweep2 = cirq.Points(\"gamma\", [0, 3])\n",
    "# By taking the product of these two sweeps, we can sweep over all possible\n",
    "# combinations of the parameters.\n",
    "for param in sweep1 * sweep2:\n",
    "    print(param)"
   ]
  },
  {
   "cell_type": "code",
   "execution_count": null,
   "metadata": {
    "id": "c55ea3d1b5ae"
   },
   "outputs": [],
   "source": [
    "sweep1 = cirq.Points(\"theta\", [1, 2, 3])\n",
    "sweep2 = cirq.Points(\"gamma\", [0, 3, 4])\n",
    "# By taking the sum of these two sweeps, we can combine the sweeps\n",
    "# elementwise (similar to python's zip function):\n",
    "for param in sweep1 + sweep2:\n",
    "    print(param)"
   ]
  },
  {
   "cell_type": "markdown",
   "metadata": {
    "id": "b9d5e67f80e5"
   },
   "source": [
    "`cirq.Linspace` and `cirq.Points` are instances of the `cirq.Sweep` class, which explicitly supports cartesian product with the `*` operation, and zipping with the `+` operation. Other mathematical operations will not work in general *between sweeps*."
   ]
  },
  {
   "cell_type": "markdown",
   "metadata": {
    "id": "a3eac1b9cf98"
   },
   "source": [
    "## Symbols and Expressions"
   ]
  },
  {
   "cell_type": "markdown",
   "metadata": {
    "id": "802e8fabd18c"
   },
   "source": [
    "Cirq uses Sympy to define its parameters. Sympy is a general symbolic mathematics toolset, and we can leverage this in Cirq.  For example, in Sympy, we can define an expression and use it to construct circuits that depend on this expression:"
   ]
  },
  {
   "cell_type": "code",
   "execution_count": null,
   "metadata": {
    "id": "54f791f74371"
   },
   "outputs": [],
   "source": [
    "# We construct an expression for 0.5 * a + 0.25:\n",
    "expr = 0.5 * sympy.Symbol(\"a\") + 0.25\n",
    "print(expr)"
   ]
  },
  {
   "cell_type": "code",
   "execution_count": null,
   "metadata": {
    "id": "2f207f4bc301"
   },
   "outputs": [],
   "source": [
    "# We can use this in the circuit:\n",
    "circuit = cirq.Circuit(cirq.X(q0)**expr, cirq.measure(q0))\n",
    "print(f\"circuit:\\n{circuit}\")"
   ]
  },
  {
   "cell_type": "markdown",
   "metadata": {
    "id": "d6501bf32491"
   },
   "source": [
    "When we resolve parameters for this circuit, the expression will be evaluated"
   ]
  },
  {
   "cell_type": "code",
   "execution_count": null,
   "metadata": {
    "id": "310b5976c042"
   },
   "outputs": [],
   "source": [
    "print(cirq.resolve_parameters(circuit, {\"a\": 0}))"
   ]
  },
  {
   "cell_type": "markdown",
   "metadata": {
    "id": "3853e96f6abd"
   },
   "source": [
    "Similarly when we run a simulation, we can pass in a sweep, and Cirq will evaluate this expression for each of the possible values in the sweep:"
   ]
  },
  {
   "cell_type": "code",
   "execution_count": null,
   "metadata": {
    "id": "9b36047325eb"
   },
   "outputs": [],
   "source": [
    "sim.run_sweep(circuit, repetitions=20, params=[{\"a\": 0}, {\"a\": 1}])"
   ]
  },
  {
   "cell_type": "markdown",
   "metadata": {
    "id": "dae5c1c38113"
   },
   "source": [
    "Sympy supports a large number of numeric functions and methods, and we can create fairly sophisticated expressions:"
   ]
  },
  {
   "cell_type": "code",
   "execution_count": null,
   "metadata": {
    "id": "b5f03870ccf3"
   },
   "outputs": [],
   "source": [
    "print(sympy.cos(sympy.Symbol(\"a\"))**sympy.Symbol(\"b\"))"
   ]
  },
  {
   "cell_type": "markdown",
   "metadata": {
    "id": "93ddeb7cee7d"
   },
   "source": [
    "Cirq can evaluate numerically all of the expressions Sympy can evalute. One should note however, that if one is running a parameterized circuit on a service (such as on a hardware backed quantum computing service) these services may not suport evaluating all expressions. See documentation for the particular service for details. However, as a general workaround, one can instead use Cirq's flattening ability to evaluate the parameters server side."
   ]
  },
  {
   "cell_type": "markdown",
   "metadata": {
    "id": "d734d8b4ccdb"
   },
   "source": [
    "### Flattening Expressions\n",
    "\n",
    "Suppose we build a circuit with multiple expressions in the circuit:"
   ]
  },
  {
   "cell_type": "code",
   "execution_count": null,
   "metadata": {
    "id": "4a521736bfcd"
   },
   "outputs": [],
   "source": [
    "a = sympy.Symbol('a')\n",
    "circuit = cirq.Circuit(\n",
    "    cirq.X(q0) ** (a/4),\n",
    "    cirq.Y(q0) ** (1-a/2),\n",
    "    cirq.measure(q0)\n",
    ")\n",
    "print(circuit)"
   ]
  },
  {
   "cell_type": "markdown",
   "metadata": {
    "id": "a7592df0d861"
   },
   "source": [
    "The idea behind flattening is that for each of the expressions used in the circuit, we create a new symbol for this expression, and then construct and object, a `cirq.ExpressionMap`, that has knowledge about how to map from the bare symbols to the value of the expression. "
   ]
  },
  {
   "cell_type": "code",
   "execution_count": null,
   "metadata": {
    "id": "7547e141b34b"
   },
   "outputs": [],
   "source": [
    "# Flatten returns two objects, the circuit with new symbols, and the mapping from old to new values.\n",
    "c_flat, expr_map = cirq.flatten(circuit)\n",
    "print(c_flat)\n",
    "print(expr_map)"
   ]
  },
  {
   "cell_type": "markdown",
   "metadata": {
    "id": "756ad9a92137"
   },
   "source": [
    "Notice that the new circuit has new symbols, `<a/2>` and `<1-a/2`. These are not expressions.  We can see this by looking at the value of the exponent in the first gate:"
   ]
  },
  {
   "cell_type": "code",
   "execution_count": null,
   "metadata": {
    "id": "66a3c56a21e2"
   },
   "outputs": [],
   "source": [
    "first_gate = c_flat[0][q0].gate\n",
    "print(first_gate.exponent)\n",
    "# Note this is a symbol, not an expression\n",
    "print(type(first_gate.exponent))"
   ]
  },
  {
   "cell_type": "markdown",
   "metadata": {
    "id": "3b5a767a93bc"
   },
   "source": [
    "The second object returned by `cirq.flatten` is an object that can map sweeps with particular values to the new symbols that corresond to the expressions, with the value being that of the evaluated expression."
   ]
  },
  {
   "cell_type": "code",
   "execution_count": null,
   "metadata": {
    "id": "09f7a22f32a7"
   },
   "outputs": [],
   "source": [
    "sweep = cirq.Linspace(a, start=0, stop=3, length=4)\n",
    "print(f\"Old {sweep}\")\n",
    "\n",
    "new_sweep = expr_map.transform_sweep(sweep)\n",
    "print(f\"New {new_sweep}\")"
   ]
  },
  {
   "cell_type": "markdown",
   "metadata": {
    "id": "c560b632e84d"
   },
   "source": [
    "One can then use these new sweep elements with the flattened circuit"
   ]
  },
  {
   "cell_type": "code",
   "execution_count": null,
   "metadata": {
    "id": "943624f92b80"
   },
   "outputs": [],
   "source": [
    "for params in new_sweep:\n",
    "    print(c_flat, '=>', end=' ')\n",
    "    print(cirq.resolve_parameters(c_flat, params))"
   ]
  },
  {
   "cell_type": "markdown",
   "metadata": {
    "id": "beff46419af0"
   },
   "source": [
    "Using `cirq.flatten` one can always take a paramterized circuit with complicated expressions plus a sweep, and produce an equivalent circuit with no expressions, only symbols, and a sweep for these symbols. Because this is a common flow, cirq provides `cirq.flatten_sweep` to do this in one step:"
   ]
  },
  {
   "cell_type": "code",
   "execution_count": null,
   "metadata": {
    "id": "42384c62a42d"
   },
   "outputs": [],
   "source": [
    "c_flat, new_sweep = cirq.flatten_with_sweep(circuit, sweep)\n",
    "print(c_flat)\n",
    "print(new_sweep)"
   ]
  },
  {
   "cell_type": "markdown",
   "metadata": {
    "id": "9b3f42c586a4"
   },
   "source": [
    "We can then directly use these objects to run the sweeps. For example, here we use them to perform a simulation:"
   ]
  },
  {
   "cell_type": "code",
   "execution_count": null,
   "metadata": {
    "id": "6c2a38e42993"
   },
   "outputs": [],
   "source": [
    "sim = cirq.Simulator()\n",
    "results = sim.run_sweep(c_flat, repetitions=20, params=new_sweep)\n",
    "for result in results:\n",
    "    print(result.params, result)"
   ]
  },
  {
   "cell_type": "markdown",
   "metadata": {
    "id": "de31ae91808b"
   },
   "source": [
    "Where we see that the different flatten parameters have corresponding different results of the simulation."
   ]
  }
 ],
 "metadata": {
  "colab": {
   "name": "params.ipynb",
   "toc_visible": true
  },
  "kernelspec": {
   "display_name": "Python 3",
   "name": "python3"
  }
 },
 "nbformat": 4,
 "nbformat_minor": 0
}
